{
 "cells": [
  {
   "attachments": {},
   "cell_type": "markdown",
   "metadata": {},
   "source": [
    "Elige un lenguaje de programación: Una vez que sepas cuáles son tus objetivos, elige el lenguaje de programación que se adapte a tus necesidades.\n",
    "Si quieres desarrollar aplicaciones móviles, por ejemplo, deberías aprender Java o Swift. Si quieres trabajar en inteligencia artificial, Python es una buena opción. \n",
    "Si quieres desarrollar páginas web, HTML, CSS y JavaScript son los lenguajes que necesitas conocer.\n",
    "Cambio nueva rama\n"
   ]
  }
 ],
 "metadata": {
  "language_info": {
   "name": "python"
  },
  "orig_nbformat": 4
 },
 "nbformat": 4,
 "nbformat_minor": 2
}
